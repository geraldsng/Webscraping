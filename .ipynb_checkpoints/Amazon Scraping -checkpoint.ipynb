{
 "cells": [
  {
   "cell_type": "markdown",
   "id": "07d98558",
   "metadata": {},
   "source": [
    "# Objective: To scrape data from amazon best sellers in baby <br>\n",
    "url: https://www.amazon.com/gp/bestsellers/baby-products<br>\n",
    "\n",
    "Information required:<br>\n",
    "1. Title of listing<br>\n",
    "2. All products + price in each listing<br>\n",
    "3. Number of ratings of Store<br>\n",
    "4. Number of stars for ratings<br>\n",
    "5. Customer reviews(# of stars)<br>\n",
    "\n",
    "Requirements of crawler:<br>\n",
    "1. Automate finding of all the top sellers"
   ]
  },
  {
   "cell_type": "markdown",
   "id": "badc26cd",
   "metadata": {},
   "source": [
    "### Packages"
   ]
  },
  {
   "cell_type": "code",
   "execution_count": 43,
   "id": "bdd4bc9d",
   "metadata": {},
   "outputs": [],
   "source": [
    "import pandas as pd\n",
    "import seaborn as sns\n",
    "import matplotlib.pyplot as plt\n",
    "import scrapy\n",
    "from scrapy import Selector\n",
    "from scrapy.crawler import CrawlerProcess\n",
    "import requests"
   ]
  },
  {
   "cell_type": "code",
   "execution_count": 98,
   "id": "80432d46",
   "metadata": {},
   "outputs": [],
   "source": [
    "urls_start= ['https://www.amazon.com/gp/bestsellers/baby-products', \n",
    "             'https://www.amazon.com/Best-Sellers-Baby/zgbs/baby-products/ref=zg_bs_pg_2?_encoding=UTF8&pg=2']"
   ]
  },
  {
   "cell_type": "code",
   "execution_count": 99,
   "id": "4640020b",
   "metadata": {},
   "outputs": [],
   "source": [
    "def scrape_url(urls_start, url_list):\n",
    "    \n",
    "    for url in urls_start:\n",
    "        \n",
    "        html = requests.get(url).content\n",
    "        sel = Selector(text=html)\n",
    "    \n",
    "        # Extract all url links on page\n",
    "        listing_url = sel.css('a.a-link-normal::attr(href)').extract()\n",
    "\n",
    "        # Convert to pd Series to use .str.contains()\n",
    "        listing_url = pd.Series(listing_url, dtype=\"string\")\n",
    "         \n",
    "        # Identify index of all product review url\n",
    "        product_reviews_index= listing_url.str.contains(pat = 'product-reviews')\n",
    "\n",
    "        # Remove all the product_reviews url to get only product listing url\n",
    "        listing_url = listing_url[~product_reviews_index]\n",
    "\n",
    "        # Find index of all unrelated urls that contain www.amazon.com\n",
    "        other_url_index= listing_url.str.contains(pat = 'www.amazon.com')\n",
    "\n",
    "        # Remove all the other url to get only product listing url\n",
    "        listing_url = listing_url[~other_url_index]\n",
    "\n",
    "        # Remove duplicated links\n",
    "        listing_url.drop_duplicates(inplace=True)\n",
    "        \n",
    "        for x in listing_url:\n",
    "            url_list.append('https://www.amazon.com'+ x)\n",
    "    \n",
    "    return url_list"
   ]
  },
  {
   "cell_type": "code",
   "execution_count": 100,
   "id": "c62b6afc",
   "metadata": {},
   "outputs": [],
   "source": [
    "# initialize url list\n",
    "url_list = []"
   ]
  },
  {
   "cell_type": "code",
   "execution_count": 101,
   "id": "e957562d",
   "metadata": {},
   "outputs": [],
   "source": [
    "# scrape 1st page links\n",
    "url_list= scrape_url(urls_start, url_list)"
   ]
  },
  {
   "cell_type": "code",
   "execution_count": 102,
   "id": "c7a489b7",
   "metadata": {},
   "outputs": [
    {
     "data": {
      "text/plain": [
       "100"
      ]
     },
     "execution_count": 102,
     "metadata": {},
     "output_type": "execute_result"
    }
   ],
   "source": [
    "len(url_list)"
   ]
  },
  {
   "cell_type": "code",
   "execution_count": 18,
   "id": "59dc355c",
   "metadata": {
    "scrolled": true
   },
   "outputs": [
    {
     "ename": "NameError",
     "evalue": "name 'sel' is not defined",
     "output_type": "error",
     "traceback": [
      "\u001b[1;31m---------------------------------------------------------------------------\u001b[0m",
      "\u001b[1;31mNameError\u001b[0m                                 Traceback (most recent call last)",
      "\u001b[1;32m<ipython-input-18-7cccff245c88>\u001b[0m in \u001b[0;36m<module>\u001b[1;34m\u001b[0m\n\u001b[0;32m      1\u001b[0m \u001b[1;31m# url of next page\u001b[0m\u001b[1;33m\u001b[0m\u001b[1;33m\u001b[0m\u001b[1;33m\u001b[0m\u001b[0m\n\u001b[1;32m----> 2\u001b[1;33m \u001b[0mnextpage_url\u001b[0m \u001b[1;33m=\u001b[0m \u001b[0msel\u001b[0m\u001b[1;33m.\u001b[0m\u001b[0mcss\u001b[0m\u001b[1;33m(\u001b[0m\u001b[1;34m'li.a-last ::attr(href)'\u001b[0m\u001b[1;33m)\u001b[0m\u001b[1;33m.\u001b[0m\u001b[0mextract\u001b[0m\u001b[1;33m(\u001b[0m\u001b[1;33m)\u001b[0m\u001b[1;33m\u001b[0m\u001b[1;33m\u001b[0m\u001b[0m\n\u001b[0m",
      "\u001b[1;31mNameError\u001b[0m: name 'sel' is not defined"
     ]
    }
   ],
   "source": [
    "# url of next page\n",
    "#nextpage_url = sel.css('li.a-last ::attr(href)').extract()"
   ]
  },
  {
   "cell_type": "code",
   "execution_count": null,
   "id": "7332c253",
   "metadata": {},
   "outputs": [],
   "source": [
    "response.follow(nextpage_url)"
   ]
  },
  {
   "cell_type": "code",
   "execution_count": null,
   "id": "c4675599",
   "metadata": {},
   "outputs": [],
   "source": [
    "scrapy crawl quotes"
   ]
  },
  {
   "cell_type": "code",
   "execution_count": 152,
   "id": "25a29a9c",
   "metadata": {},
   "outputs": [],
   "source": [
    "#Setting up Spider\n",
    "class AmazonSpider(scrapy.Spider):\n",
    "    name = 'amazonspider'\n",
    "    def __init__(self, url_start):\n",
    "        self.url_start = url_start\n",
    "        \n",
    "    def start_requests(self):\n",
    "        for url in url_list:\n",
    "            yield scrapy.Request(url=url, callback= self.parse)\n",
    "    \n",
    "    def parse(self, response):\n",
    "        product_title = response.xpath('//*[@id=\"productTitle\"]/text()').getall()\n",
    "        \n"
   ]
  },
  {
   "cell_type": "code",
   "execution_count": 153,
   "id": "b166c312",
   "metadata": {},
   "outputs": [
    {
     "name": "stderr",
     "output_type": "stream",
     "text": [
      "2022-03-01 23:15:55 [scrapy.utils.log] INFO: Scrapy 2.5.1 started (bot: scrapybot)\n",
      "2022-03-01 23:15:55 [scrapy.utils.log] INFO: Versions: lxml 4.6.3.0, libxml2 2.9.10, cssselect 1.1.0, parsel 1.6.0, w3lib 1.22.0, Twisted 21.7.0, Python 3.8.8 (default, Apr 13 2021, 15:08:03) [MSC v.1916 64 bit (AMD64)], pyOpenSSL 20.0.1 (OpenSSL 1.1.1k  25 Mar 2021), cryptography 3.4.7, Platform Windows-10-10.0.19041-SP0\n",
      "2022-03-01 23:15:55 [scrapy.utils.log] DEBUG: Using reactor: twisted.internet.selectreactor.SelectReactor\n",
      "2022-03-01 23:15:55 [scrapy.crawler] INFO: Overridden settings:\n",
      "{}\n",
      "2022-03-01 23:15:56 [scrapy.extensions.telnet] INFO: Telnet Password: 75e61c3784337c7c\n",
      "2022-03-01 23:15:56 [scrapy.middleware] INFO: Enabled extensions:\n",
      "['scrapy.extensions.corestats.CoreStats',\n",
      " 'scrapy.extensions.telnet.TelnetConsole',\n",
      " 'scrapy.extensions.logstats.LogStats']\n"
     ]
    }
   ],
   "source": [
    "process = CrawlerProcess()\n",
    "process.crawl(AmazonSpider)\n",
    "process.start()"
   ]
  },
  {
   "cell_type": "code",
   "execution_count": 180,
   "id": "5cfaf091",
   "metadata": {},
   "outputs": [
    {
     "name": "stderr",
     "output_type": "stream",
     "text": [
      "2022-03-01 23:39:20 [urllib3.connectionpool] DEBUG: Starting new HTTPS connection (1): www.amazon.com:443\n",
      "2022-03-01 23:39:20 [urllib3.connectionpool] DEBUG: https://www.amazon.com:443 \"GET /AmazonBasics-AA-Performance-Alkaline-Batteries/dp/B07NVTGRVZ/ref=zg-bs_hpc_1/139-4978961-3018230?pd_rd_w=TKuQZ&pf_rd_p=1e7b1982-fb44-47aa-b1ce-d356a8609d66&pf_rd_r=NA2G5ZZTY34PTJ38T4VQ&pd_rd_r=b07cc40c-114d-4b48-a619-ea4425ddcdce&pd_rd_wg=mVEak&pd_rd_i=B00QWO9P0O&psc=1 HTTP/1.1\" 503 1203\n"
     ]
    },
    {
     "data": {
      "text/plain": [
       "['0']"
      ]
     },
     "execution_count": 180,
     "metadata": {},
     "output_type": "execute_result"
    }
   ],
   "source": [
    "html = requests.get('https://www.amazon.com/AmazonBasics-AA-Performance-Alkaline-Batteries/dp/B07NVTGRVZ/ref=zg-bs_hpc_1/139-4978961-3018230?pd_rd_w=TKuQZ&pf_rd_p=1e7b1982-fb44-47aa-b1ce-d356a8609d66&pf_rd_r=NA2G5ZZTY34PTJ38T4VQ&pd_rd_r=b07cc40c-114d-4b48-a619-ea4425ddcdce&pd_rd_wg=mVEak&pd_rd_i=B00QWO9P0O&psc=1').content\n",
    "sel = Selector(text=html)\n",
    "    \n",
    "# Extract all url links on page\n",
    "extract = sel.xpath('//*[@class=\"a-size-large product-title-word-break\"]').extract()\n",
    "extract"
   ]
  },
  {
   "cell_type": "code",
   "execution_count": 157,
   "id": "284aa067",
   "metadata": {},
   "outputs": [
    {
     "name": "stderr",
     "output_type": "stream",
     "text": [
      "2022-03-01 23:17:47 [urllib3.connectionpool] DEBUG: Starting new HTTPS connection (1): www.amazon.com:443\n",
      "2022-03-01 23:17:48 [urllib3.connectionpool] DEBUG: https://www.amazon.com:443 \"GET /Choose-your-count-Sensitive-Hypoallergenic/dp/B079V67BFW/ref=zg_bs_baby-products_1/139-4978961-3018230?pd_rd_i=B09GTR2232&psc=1 HTTP/1.1\" 503 1203\n"
     ]
    },
    {
     "name": "stdout",
     "output_type": "stream",
     "text": [
      "[]\n"
     ]
    }
   ],
   "source": [
    "html = requests.get('https://www.amazon.com/Choose-your-count-Sensitive-Hypoallergenic/dp/B079V67BFW/ref=zg_bs_baby-products_1/139-4978961-3018230?pd_rd_i=B09GTR2232&psc=1').content\n",
    "sel = Selector(text=html)\n",
    "    \n",
    "# Extract all url links on page\n",
    "extract = sel.xpath('/@href').extract()\n",
    "print(extract)"
   ]
  },
  {
   "cell_type": "code",
   "execution_count": null,
   "id": "5f379a3b",
   "metadata": {},
   "outputs": [],
   "source": []
  }
 ],
 "metadata": {
  "kernelspec": {
   "display_name": "Python 3",
   "language": "python",
   "name": "python3"
  },
  "language_info": {
   "codemirror_mode": {
    "name": "ipython",
    "version": 3
   },
   "file_extension": ".py",
   "mimetype": "text/x-python",
   "name": "python",
   "nbconvert_exporter": "python",
   "pygments_lexer": "ipython3",
   "version": "3.8.8"
  }
 },
 "nbformat": 4,
 "nbformat_minor": 5
}
