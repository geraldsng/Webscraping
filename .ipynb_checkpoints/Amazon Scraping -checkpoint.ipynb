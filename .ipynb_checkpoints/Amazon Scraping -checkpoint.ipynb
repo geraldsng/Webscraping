{
 "cells": [
  {
   "cell_type": "markdown",
   "id": "07d98558",
   "metadata": {},
   "source": [
    "# Objective: To scrape data from amazon best sellers in baby <br>\n",
    "url: https://www.amazon.com/gp/bestsellers/baby-products<br>\n",
    "\n",
    "Information required:<br>\n",
    "1. Title of listing<br>\n",
    "2. All products + price in each listing<br>\n",
    "3. Number of ratings of Store<br>\n",
    "4. Number of stars for ratings<br>\n",
    "5. Customer reviews(# of stars)<br>\n",
    "\n",
    "Requirements of crawler:<br>\n",
    "1. Automate finding of all the top sellers"
   ]
  },
  {
   "cell_type": "markdown",
   "id": "badc26cd",
   "metadata": {},
   "source": [
    "### Packages"
   ]
  },
  {
   "cell_type": "code",
   "execution_count": 5,
   "id": "bdd4bc9d",
   "metadata": {},
   "outputs": [],
   "source": [
    "import pandas as pd\n",
    "import seaborn as sns\n",
    "import matplotlib.pyplot as plt\n",
    "import scrapy\n",
    "from scrapy import Selector\n",
    "from scrapy.crawler import CrawlerProcess\n",
    "import requests"
   ]
  },
  {
   "cell_type": "code",
   "execution_count": null,
   "id": "90c2d439",
   "metadata": {},
   "outputs": [],
   "source": [
    "#testing git commit"
   ]
  },
  {
   "cell_type": "code",
   "execution_count": null,
   "id": "06d30ca2",
   "metadata": {},
   "outputs": [],
   "source": [
    "#test commit"
   ]
  },
  {
   "cell_type": "code",
   "execution_count": 99,
   "id": "80432d46",
   "metadata": {},
   "outputs": [],
   "source": [
    "url= 'https://www.amazon.com/gp/bestsellers/baby-products'"
   ]
  },
  {
   "cell_type": "code",
   "execution_count": 100,
   "id": "e890dd29",
   "metadata": {},
   "outputs": [],
   "source": [
    "html = requests.get(url).content"
   ]
  },
  {
   "cell_type": "code",
   "execution_count": 101,
   "id": "d8d875ab",
   "metadata": {},
   "outputs": [],
   "source": [
    "sel = Selector(text=html)\n",
    "listing_url = sel.css('a.a-link-normal::attr(href)').extract()\n",
    "\n",
    "# Convert to pd Series to use .str.contains()\n",
    "listing_url = pd.Series(listing_url)"
   ]
  },
  {
   "cell_type": "code",
   "execution_count": 109,
   "id": "4640020b",
   "metadata": {},
   "outputs": [],
   "source": [
    "product_reviews_index= listing_url.str.contains(pat = 'product-reviews')\n",
    "\n",
    "# Remove all the product_reviews url to get only product listing url\n",
    "listing_url = listing_url[~product_reviews_index]\n",
    "\n",
    "# Remove all listings that contain www.amazon.com\n",
    "other_url_index= listing_url.str.contains(pat = 'www.amazon.com')\n",
    "\n",
    "# Remove all the other url to get only product listing url\n",
    "listing_url = listing_url[~other_url_index]\n",
    "\n",
    "# Remove duplicated links\n",
    "listing_url.drop_duplicates(inplace=True)"
   ]
  },
  {
   "cell_type": "code",
   "execution_count": 126,
   "id": "9daf4c99",
   "metadata": {},
   "outputs": [],
   "source": [
    "#initialize url list\n",
    "url_list = []"
   ]
  },
  {
   "cell_type": "code",
   "execution_count": 142,
   "id": "82c16563",
   "metadata": {},
   "outputs": [],
   "source": [
    "# Append to url list\n",
    "url_list = ['https://www.amazon.com'+ x for x in listing_url]"
   ]
  },
  {
   "cell_type": "code",
   "execution_count": 143,
   "id": "044a172c",
   "metadata": {},
   "outputs": [
    {
     "data": {
      "text/plain": [
       "['https://www.amazon.com/Choose-your-count-Sensitive-Hypoallergenic/dp/B079V67BFW?_encoding=UTF8&psc=1',\n",
       " 'https://www.amazon.com/Diapers-Newborn-Size-140-Count/dp/B07SVHLGV8?_encoding=UTF8&psc=1',\n",
       " 'https://www.amazon.com/HUGGIES-Natural-Unscented-Wipes-Flip-Top/dp/B07MB5RY9N?_encoding=UTF8&psc=1',\n",
       " 'https://www.amazon.com/WaterWipes-Sensitive-Baby-Wipes-Count/dp/B0779Z53SD?_encoding=UTF8&psc=1',\n",
       " 'https://www.amazon.com/iHealth-Thermometer-Vibration-Notification-Thermopile/dp/B075QQ8VZW?_encoding=UTF8&psc=1',\n",
       " 'https://www.amazon.com/Infrared-Forehead-Thermometer-Non-Contact-Accurate/dp/B088TLH2GK?_encoding=UTF8&psc=1',\n",
       " 'https://www.amazon.com/Luvs-Leakguards-Disposable-Diapers-Newborn/dp/B01EKZO93O?_encoding=UTF8&psc=1',\n",
       " 'https://www.amazon.com/Baby-Diapers-Huggies-Little-Movers/dp/B08QRYHC38?_encoding=UTF8&psc=1',\n",
       " 'https://www.amazon.com/Unscented-Huggies-Simply-Fragrance-Free-Diaper/dp/B08QRKY3NJ?_encoding=UTF8&psc=1',\n",
       " 'https://www.amazon.com/Amazon-Brand-Gentle-Touch-Diapers/dp/B07T4WQRN1?_encoding=UTF8&psc=1',\n",
       " 'https://www.amazon.com/Amazon-Family-Baby-Registry-Welcome/dp/B00N1NBOV2?_encoding=UTF8&psc=1',\n",
       " 'https://www.amazon.com/Newborn-Diapers-Huggies-Little-Snugglers/dp/B08TGTV51B?_encoding=UTF8&psc=1',\n",
       " 'https://www.amazon.com/Lansinoh-Breastmilk-Breastfeeding-Directly-Essentials/dp/B006XISCNA?_encoding=UTF8&psc=1',\n",
       " 'https://www.amazon.com/Medela-Breastfeeding-Self-Standing-Space-Saving-Hygienically/dp/B0723GXKZC?_encoding=UTF8&psc=1',\n",
       " 'https://www.amazon.com/Pampers-Baby-Dry-Disposable-Diapers-Newborn/dp/B00DEYYRGM?_encoding=UTF8&psc=1',\n",
       " 'https://www.amazon.com/INDRESSME-XXXLarge-Laundry-Comforter-Cushions/dp/B08PFKSJZY?_encoding=UTF8&psc=1',\n",
       " 'https://www.amazon.com/Nighttime-Baby-Diapers-Huggies-Overnites/dp/B08QRTWRZ6?_encoding=UTF8&psc=1',\n",
       " 'https://www.amazon.com/Safety-1st-featuring-Mombella-Mushroom/dp/B014655J4G?_encoding=UTF8&psc=1',\n",
       " 'https://www.amazon.com/Liquid-I-V-Multiplier-Electrolyte-Supplement/dp/B07HCLQZF7?_encoding=UTF8&psc=1',\n",
       " 'https://www.amazon.com/Nasal-Aspirator-NoseFrida-Snotsucker-Fridababy/dp/B00171WXII?_encoding=UTF8&psc=1',\n",
       " 'https://www.amazon.com/Haakaa-Breast-Manual-Silicone-Breastfeeding/dp/B07CWK4S5W?_encoding=UTF8&psc=1',\n",
       " 'https://www.amazon.com/Diapers-Newborn-Size-Count-Hypoallergenic/dp/B082QBHW74?_encoding=UTF8&psc=1',\n",
       " 'https://www.amazon.com/Pampers-Overnights-Disposable-66-SUPER/dp/B07DCB7SQQ?_encoding=UTF8&psc=1',\n",
       " 'https://www.amazon.com/Aquaphor-Baby-Healing-Ointment-Advance/dp/B005UEB96K?_encoding=UTF8&psc=1',\n",
       " 'https://www.amazon.com/Pampers-Pop-Top-Sensitive-Water-Wipes/dp/B077D3JKVR?_encoding=UTF8&psc=1',\n",
       " 'https://www.amazon.com/Amazon-Elements-Wipes-Unscented-Flip-Top/dp/B07H53W5WP?_encoding=UTF8&psc=1',\n",
       " 'https://www.amazon.com/Desitin-Maximum-Strength-Diaper-Prevention/dp/B00ZQXT4EY?_encoding=UTF8&psc=1',\n",
       " 'https://www.amazon.com/Huggies-Snug-Diapers-Month-Supply/dp/B0839BLNFV?_encoding=UTF8&psc=1',\n",
       " 'https://www.amazon.com/Boudreauxs-Butt-Paste-Ointment-Preservative/dp/B004XFUSRI?_encoding=UTF8&psc=1',\n",
       " 'https://www.amazon.com/Burts-Bees-Baby-Beekeeper-Wearable/dp/B072PZ3X47?_encoding=UTF8&psc=1',\n",
       " 'https://www.amazon.com/GE-50271-Outlet-Plastic-Safety/dp/B000BQ8DWA?_encoding=UTF8&psc=1',\n",
       " 'https://www.amazon.com/Hatch-Baby-Night-Light-Machine/dp/B06XMRCC94?_encoding=UTF8&psc=1',\n",
       " 'https://www.amazon.com/Pampers-Baby-Dry-Disposable-Diapers-Count/dp/B00TJ6WLV2?_encoding=UTF8&psc=1',\n",
       " 'https://www.amazon.com/Diapers-Size-168-Count-Disposable/dp/B08VLB4NVQ?_encoding=UTF8&psc=1',\n",
       " 'https://www.amazon.com/Itzy-Ritzy-Sweetie-Soother-Pacifier/dp/B08NVNZYPF?_encoding=UTF8&psc=1',\n",
       " 'https://www.amazon.com/Lansinoh-Lanolin-Breastfeeding-Soothing-Essentials/dp/B005MI648C?_encoding=UTF8&psc=1',\n",
       " 'https://www.amazon.com/Dr-Browns-Options-Bottle-4-Pack/dp/B01845QGKK?_encoding=UTF8&psc=1',\n",
       " 'https://www.amazon.com/Pampers-Training-Disposable-Diapers-Supply/dp/B078WB74R9?_encoding=UTF8&psc=1',\n",
       " 'https://www.amazon.com/Infantino-Flip-4-Convertible-Carrier/dp/B07XMN3SK6?_encoding=UTF8&psc=1',\n",
       " 'https://www.amazon.com/Munchkin-24188-Weighted-Flexi-Straw-Cup/dp/B00HNW302I?_encoding=UTF8&psc=1',\n",
       " 'https://www.amazon.com/Playtex-Diaper-Genie-Refill-Ideal/dp/B009TJ3J60?_encoding=UTF8&psc=1',\n",
       " 'https://www.amazon.com/Cetaphil-Baby-Shampoo-Organic-Calendula/dp/B07VHR8NDF?_encoding=UTF8&psc=1',\n",
       " 'https://www.amazon.com/Nuby-Ice-Gel-Teether-Keys/dp/B003N9M6YI?_encoding=UTF8&psc=1',\n",
       " 'https://www.amazon.com/Washcloths-Hypoallergenic-Layer-Ultra-Absorbent/dp/B083RYSDQK?_encoding=UTF8&psc=1',\n",
       " 'https://www.amazon.com/Pull-Ups-Night-Time-Training-Learning-Designs/dp/B08FQLDPNR?_encoding=UTF8&psc=1',\n",
       " 'https://www.amazon.com/Goodnites-Nighttime-Bedwetting-Underwear-HSA-Eligible/dp/B01IQDZHSC?_encoding=UTF8&psc=1',\n",
       " 'https://www.amazon.com/PharMeDoc-Pregnancy-Cooling-U-Shape-Maternity/dp/B07WHSQ1SF?_encoding=UTF8&psc=1',\n",
       " 'https://www.amazon.com/Pampers-Cruisers-Disposable-Diapers-SUPPLY/dp/B010OW95UE?_encoding=UTF8&psc=1',\n",
       " 'https://www.amazon.com/Momcozy-Adjustable-Breast-Pumps-Suitable-Breastfeeding-Pumps/dp/B086V7V7ZD?_encoding=UTF8&psc=1',\n",
       " 'https://www.amazon.com/Munchkin-Miracle-Trainer-Green-Ounce/dp/B00MRZIFD0?_encoding=UTF8&psc=1']"
      ]
     },
     "execution_count": 143,
     "metadata": {},
     "output_type": "execute_result"
    }
   ],
   "source": [
    "url_list"
   ]
  },
  {
   "cell_type": "code",
   "execution_count": 144,
   "id": "59dc355c",
   "metadata": {
    "scrolled": true
   },
   "outputs": [],
   "source": [
    "# url of next page\n",
    "nextpage_url = sel.css('li.a-last ::attr(href)').extract()"
   ]
  },
  {
   "cell_type": "code",
   "execution_count": null,
   "id": "7332c253",
   "metadata": {},
   "outputs": [],
   "source": []
  },
  {
   "cell_type": "code",
   "execution_count": null,
   "id": "25a29a9c",
   "metadata": {},
   "outputs": [],
   "source": [
    "#Setting up Spider\n",
    "class AmazonSpider(scrapy.Spider):\n",
    "    name = 'amazonspider'\n",
    "    def __init__(self, url_start)\n",
    "        self.url_start = url_start\n",
    "        \n",
    "    def start_requests(self):\n",
    "        url = [url_start]\n",
    "        for url\n",
    "        \n"
   ]
  },
  {
   "cell_type": "code",
   "execution_count": null,
   "id": "391069a4",
   "metadata": {},
   "outputs": [],
   "source": []
  }
 ],
 "metadata": {
  "kernelspec": {
   "display_name": "Python 3",
   "language": "python",
   "name": "python3"
  },
  "language_info": {
   "codemirror_mode": {
    "name": "ipython",
    "version": 3
   },
   "file_extension": ".py",
   "mimetype": "text/x-python",
   "name": "python",
   "nbconvert_exporter": "python",
   "pygments_lexer": "ipython3",
   "version": "3.8.8"
  }
 },
 "nbformat": 4,
 "nbformat_minor": 5
}
