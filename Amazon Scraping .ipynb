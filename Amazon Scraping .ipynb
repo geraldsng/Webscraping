{
 "cells": [
  {
   "cell_type": "markdown",
   "id": "07d98558",
   "metadata": {},
   "source": [
    "# Objective: To scrape data from amazon best sellers in baby <br>\n",
    "url: https://www.amazon.com/gp/bestsellers/baby-products<br>\n",
    "\n",
    "Information required:<br>\n",
    "1. Title of listing<br>\n",
    "2. All products + price in each listing<br>\n",
    "3. Number of ratings of Store<br>\n",
    "4. Number of stars for ratings<br>\n",
    "5. Customer reviews(# of stars)<br>\n",
    "\n",
    "Requirements of crawler:<br>\n",
    "1. Automate finding of all the top sellers"
   ]
  },
  {
   "cell_type": "markdown",
   "id": "badc26cd",
   "metadata": {},
   "source": [
    "### Packages"
   ]
  },
  {
   "cell_type": "code",
   "execution_count": 38,
   "id": "bdd4bc9d",
   "metadata": {},
   "outputs": [],
   "source": [
    "import pandas as pd\n",
    "import seaborn as sns\n",
    "import matplotlib.pyplot as plt\n",
    "import scrapy\n",
    "from scrapy import Selector\n",
    "from scrapy.crawler import CrawlerProcess\n",
    "import requests"
   ]
  },
  {
   "cell_type": "code",
   "execution_count": 39,
   "id": "80432d46",
   "metadata": {},
   "outputs": [],
   "source": [
    "url= 'https://www.amazon.com/gp/bestsellers/baby-products'"
   ]
  },
  {
   "cell_type": "code",
   "execution_count": 40,
   "id": "e890dd29",
   "metadata": {},
   "outputs": [],
   "source": [
    "html = requests.get(url).content"
   ]
  },
  {
   "cell_type": "code",
   "execution_count": 72,
   "id": "4640020b",
   "metadata": {},
   "outputs": [],
   "source": [
    "def scrape_url(html, url_list):\n",
    "\n",
    "    sel = Selector(text=html)\n",
    "    \n",
    "    # Extract all url links on page\n",
    "    listing_url = sel.css('a.a-link-normal::attr(href)').extract()\n",
    "\n",
    "    # Convert to pd Series to use .str.contains()\n",
    "    listing_url = pd.Series(listing_url)\n",
    "    \n",
    "    # Identify index of all product review url\n",
    "    product_reviews_index= listing_url.str.contains(pat = 'product-reviews')\n",
    "\n",
    "    # Remove all the product_reviews url to get only product listing url\n",
    "    listing_url = listing_url[~product_reviews_index]\n",
    "\n",
    "    # Find index of all unrelated urls that contain www.amazon.com\n",
    "    other_url_index= listing_url.str.contains(pat = 'www.amazon.com')\n",
    "\n",
    "    # Remove all the other url to get only product listing url\n",
    "    listing_url = listing_url[~other_url_index]\n",
    "\n",
    "    # Remove duplicated links\n",
    "    listing_url.drop_duplicates(inplace=True)\n",
    "    for x in listing_url:\n",
    "        url_list.append('https://www.amazon.com'+ x)\n",
    "    \n",
    "    return url_list"
   ]
  },
  {
   "cell_type": "code",
   "execution_count": 73,
   "id": "c62b6afc",
   "metadata": {},
   "outputs": [],
   "source": [
    "url_list = []"
   ]
  },
  {
   "cell_type": "code",
   "execution_count": 75,
   "id": "e957562d",
   "metadata": {},
   "outputs": [
    {
     "data": {
      "text/plain": [
       "['https://www.amazon.com/Choose-your-count-Sensitive-Hypoallergenic/dp/B079V67BFW/ref=zg_bs_baby-products_1/000-0000000-0000000?pd_rd_i=B09GTR2232&psc=1',\n",
       " 'https://www.amazon.com/Diapers-Newborn-Size-140-Count/dp/B07SVHLGV8/ref=zg_bs_baby-products_2/000-0000000-0000000?pd_rd_i=B09DTYMD51&psc=1',\n",
       " 'https://www.amazon.com/HUGGIES-Natural-Unscented-Wipes-Flip-Top/dp/B07MB5RY9N/ref=zg_bs_baby-products_3/000-0000000-0000000?pd_rd_i=B09L61QL3F&psc=1',\n",
       " 'https://www.amazon.com/WaterWipes-Sensitive-Baby-Wipes-Count/dp/B0779Z53SD/ref=zg_bs_baby-products_4/000-0000000-0000000?pd_rd_i=B09P3X2PQK&psc=1',\n",
       " 'https://www.amazon.com/Unscented-Huggies-Simply-Fragrance-Free-Diaper/dp/B08QRKY3NJ/ref=zg_bs_baby-products_5/000-0000000-0000000?pd_rd_i=B08XRTXJZZ&psc=1',\n",
       " 'https://www.amazon.com/Amazon-Brand-Gentle-Touch-Diapers/dp/B07T4WQRN1/ref=zg_bs_baby-products_6/000-0000000-0000000?pd_rd_i=B07XQ91VC2&psc=1',\n",
       " 'https://www.amazon.com/Baby-Diapers-Huggies-Little-Movers/dp/B08QRYHC38/ref=zg_bs_baby-products_7/000-0000000-0000000?pd_rd_i=B09L61BYYW&psc=1',\n",
       " 'https://www.amazon.com/Lansinoh-Breastmilk-Breastfeeding-Directly-Essentials/dp/B006XISCNA/ref=zg_bs_baby-products_8/000-0000000-0000000?pd_rd_i=B09SX991Q8&psc=1',\n",
       " 'https://www.amazon.com/Liquid-I-V-Multiplier-Electrolyte-Supplement/dp/B07HCLQZF7/ref=zg_bs_baby-products_9/000-0000000-0000000?pd_rd_i=B08YKG3XTV&psc=1',\n",
       " 'https://www.amazon.com/Dr-Browns-Original-Nipple-Preemie/dp/B015XBYDE4/ref=zg_bs_baby-products_10/000-0000000-0000000?pd_rd_i=B09SHLXTJX&psc=1',\n",
       " 'https://www.amazon.com/Newborn-Diapers-Huggies-Little-Snugglers/dp/B08TGTV51B/ref=zg_bs_baby-products_11/000-0000000-0000000?pd_rd_i=B09L61ZKZG&psc=1',\n",
       " 'https://www.amazon.com/Nighttime-Baby-Diapers-Huggies-Overnites/dp/B08QRTWRZ6/ref=zg_bs_baby-products_12/000-0000000-0000000?pd_rd_i=B09L619CLT&psc=1',\n",
       " 'https://www.amazon.com/Pampers-Pop-Top-Sensitive-Water-Wipes/dp/B077D3JKVR/ref=zg_bs_baby-products_13/000-0000000-0000000?pd_rd_i=B09C1J7N4V&psc=1',\n",
       " 'https://www.amazon.com/Dr-Browns-Bottle-Brush-Blue/dp/B000N0SNHY/ref=zg_bs_baby-products_14/000-0000000-0000000?pd_rd_i=B09RTWRR6J&psc=1',\n",
       " 'https://www.amazon.com/Amazon-Family-Baby-Registry-Welcome/dp/B00N1NBOV2/ref=zg_bs_baby-products_15/000-0000000-0000000?pd_rd_i=B00N1NBOV2&psc=1',\n",
       " 'https://www.amazon.com/Pampers-Diapers-Size-116-Count/dp/B08PX3YF6P/ref=zg_bs_baby-products_16/000-0000000-0000000?pd_rd_i=B09QJJ8SH1&psc=1',\n",
       " 'https://www.amazon.com/Pampers-Baby-Dry-Disposable-Diapers-Count/dp/B00TJ6WLV2/ref=zg_bs_baby-products_17/000-0000000-0000000?pd_rd_i=B09595X1ZB&psc=1',\n",
       " 'https://www.amazon.com/Diapers-Newborn-Size-Count-Hypoallergenic/dp/B082QBHW74/ref=zg_bs_baby-products_18/000-0000000-0000000?pd_rd_i=B093W6L4MQ&psc=1',\n",
       " 'https://www.amazon.com/Luvs-Leakguards-Disposable-Diapers-Newborn/dp/B01EKZO93O/ref=zg_bs_baby-products_19/000-0000000-0000000?pd_rd_i=B093W75P86&psc=1',\n",
       " 'https://www.amazon.com/Haakaa-Breast-Manual-Silicone-Breastfeeding/dp/B07CWK4S5W/ref=zg_bs_baby-products_20/000-0000000-0000000?pd_rd_i=B07CWK4S5W&psc=1',\n",
       " 'https://www.amazon.com/Aquaphor-Baby-Healing-Ointment-Advance/dp/B005UEB96K/ref=zg_bs_baby-products_21/000-0000000-0000000?pd_rd_i=B005UEB96K&psc=1',\n",
       " 'https://www.amazon.com/Desitin-Relief-Diaper-Remedy-Fragrance-Free/dp/B003DN1WJY/ref=zg_bs_baby-products_22/000-0000000-0000000?pd_rd_i=B08G38FG28&psc=1',\n",
       " 'https://www.amazon.com/Hatch-Baby-Night-Light-Machine/dp/B06XMRCC94/ref=zg_bs_baby-products_23/000-0000000-0000000?pd_rd_i=B06XMRCC94&psc=1',\n",
       " 'https://www.amazon.com/Pampers-Cruisers-Diapers-Sensitive-Pop-Top/dp/B0911T5NDQ/ref=zg_bs_baby-products_24/000-0000000-0000000?pd_rd_i=B09RP151TB&psc=1',\n",
       " 'https://www.amazon.com/Johnsons-Baby-ZY-ghm-202009017-106-Wash-Shampoo/dp/B086YF2YM6/ref=zg_bs_baby-products_25/000-0000000-0000000?pd_rd_i=B09RBWGNJQ&psc=1',\n",
       " 'https://www.amazon.com/Huggies-Snug-Diapers-Month-Supply/dp/B0839BLNFV/ref=zg_bs_baby-products_26/000-0000000-0000000?pd_rd_i=B09L61JNH7&psc=1',\n",
       " 'https://www.amazon.com/Pampers-Training-Disposable-Diapers-Supply/dp/B078WB74R9/ref=zg_bs_baby-products_27/000-0000000-0000000?pd_rd_i=B09FYL5RFN&psc=1',\n",
       " 'https://www.amazon.com/Huggies-Delivery-Hypoallergenic-Unscented-Flip-Top/dp/B082WZVCPN/ref=zg_bs_baby-products_28/000-0000000-0000000?pd_rd_i=B09L5ZW2G6&psc=1',\n",
       " 'https://www.amazon.com/Safety-1st-featuring-Mombella-Mushroom/dp/B014655J4G/ref=zg_bs_baby-products_29/000-0000000-0000000?pd_rd_i=B01N39SJEY&psc=1',\n",
       " 'https://www.amazon.com/Munchkin-24188-Weighted-Flexi-Straw-Cup/dp/B00HNW302I/ref=zg_bs_baby-products_30/000-0000000-0000000?pd_rd_i=B07L5FC123&psc=1',\n",
       " 'https://www.amazon.com/ChoiceRefill-Compatible-Diaper-Genie-8-Pack/dp/B073CLKNK3/ref=zg_bs_baby-products_1/000-0000000-0000000?pd_rd_i=B09S9TFF3S&psc=1',\n",
       " 'https://www.amazon.com/Lansinoh-Lanolin-Breastfeeding-Soothing-Essentials/dp/B005MI648C/ref=zg_bs_baby-products_2/000-0000000-0000000?pd_rd_i=B08QB8W47G&psc=1',\n",
       " 'https://www.amazon.com/Itzy-Ritzy-Sweetie-Soother-Pacifier/dp/B08NVNZYPF/ref=zg_bs_baby-products_3/000-0000000-0000000?pd_rd_i=B09FTK5V21&psc=1',\n",
       " 'https://www.amazon.com/Boudreauxs-Butt-Paste-Ointment-Preservative/dp/B004XFUSRI/ref=zg_bs_baby-products_4/000-0000000-0000000?pd_rd_i=B09FG7SZHX&psc=1',\n",
       " 'https://www.amazon.com/PharMeDoc-Pregnancy-Cooling-U-Shape-Maternity/dp/B07WHSQ1SF/ref=zg_bs_baby-products_5/000-0000000-0000000?pd_rd_i=B0873VN4BG&psc=1',\n",
       " 'https://www.amazon.com/Similac-Pro-Advance-Non-GMO-Formula-One-Month/dp/B075ZXXM84/ref=zg_bs_baby-products_6/000-0000000-0000000?pd_rd_i=B075ZXXM84&psc=1',\n",
       " 'https://www.amazon.com/Infantino-Flip-4-Convertible-Carrier/dp/B07XMN3SK6/ref=zg_bs_baby-products_7/000-0000000-0000000?pd_rd_i=B09L1SVJWC&psc=1',\n",
       " 'https://www.amazon.com/Contigo-AUTOSPOUT-Water-Bottle-Licorice/dp/B089KR41DK/ref=zg_bs_baby-products_8/000-0000000-0000000?pd_rd_i=B09RJ57FW6&psc=1',\n",
       " 'https://www.amazon.com/Lansinoh-Nursing-Packs-Disposable-Breast/dp/B002TLU5JO/ref=zg_bs_baby-products_9/000-0000000-0000000?pd_rd_i=B09JB8ZP3W&psc=1',\n",
       " 'https://www.amazon.com/Graco-Backless-TurboBooster-Seat-Galaxy/dp/B007UYBOJU/ref=zg_bs_baby-products_10/000-0000000-0000000?pd_rd_i=B007UYBOJU&psc=1',\n",
       " 'https://www.amazon.com/Dr-Browns-Options-Bottles-Designs/dp/B07TXM6K2T/ref=zg_bs_baby-products_11/000-0000000-0000000?pd_rd_i=B09NFGQV31&psc=1',\n",
       " 'https://www.amazon.com/iHealth-Thermometer-Vibration-Notification-Thermopile/dp/B075QQ8VZW/ref=zg_bs_baby-products_12/000-0000000-0000000?pd_rd_i=B075QQ8VZW&psc=1',\n",
       " 'https://www.amazon.com/Goodnites-Nighttime-Bedwetting-Underwear-HSA-Eligible/dp/B01IQDZHSC/ref=zg_bs_baby-products_13/000-0000000-0000000?pd_rd_i=B09L61TS6V&psc=1',\n",
       " 'https://www.amazon.com/Medela-Breastfeeding-Self-Standing-Space-Saving-Hygienically/dp/B0723GXKZC/ref=zg_bs_baby-products_14/000-0000000-0000000?pd_rd_i=B071ZZ2FS9&psc=1',\n",
       " 'https://www.amazon.com/Infantino-Bites-Textured-Carrot-Teether/dp/B071HN7DYP/ref=zg_bs_baby-products_15/000-0000000-0000000?pd_rd_i=B08KGGWVYV&psc=1',\n",
       " 'https://www.amazon.com/Nasal-Aspirator-NoseFrida-Snotsucker-Fridababy/dp/B00171WXII/ref=zg_bs_baby-products_16/000-0000000-0000000?pd_rd_i=B09MGR54VP&psc=1',\n",
       " 'https://www.amazon.com/Amazon-Elements-Wipes-Unscented-Flip-Top/dp/B07H53W5WP/ref=zg_bs_baby-products_17/000-0000000-0000000?pd_rd_i=B0846DJBPW&psc=1',\n",
       " 'https://www.amazon.com/GE-50271-Outlet-Plastic-Safety/dp/B000BQ8DWA/ref=zg_bs_baby-products_18/000-0000000-0000000?pd_rd_i=B09P2B2K1N&psc=1',\n",
       " 'https://www.amazon.com/Momcozy-Adjustable-Breast-Pumps-Suitable-Breastfeeding-Pumps/dp/B086V7V7ZD/ref=zg_bs_baby-products_19/000-0000000-0000000?pd_rd_i=B095LM5JSB&psc=1',\n",
       " 'https://www.amazon.com/Amazon-Elements-Wipes-Sensitive-Flip-Top/dp/B07H4V7M4C/ref=zg_bs_baby-products_20/000-0000000-0000000?pd_rd_i=B0845CS7F6&psc=1',\n",
       " 'https://www.amazon.com/Choose-your-count-Sensitive-Hypoallergenic/dp/B079V67BFW/ref=zg_bs_baby-products_1/000-0000000-0000000?pd_rd_i=B09GTR2232&psc=1',\n",
       " 'https://www.amazon.com/Diapers-Newborn-Size-140-Count/dp/B07SVHLGV8/ref=zg_bs_baby-products_2/000-0000000-0000000?pd_rd_i=B09DTYMD51&psc=1',\n",
       " 'https://www.amazon.com/HUGGIES-Natural-Unscented-Wipes-Flip-Top/dp/B07MB5RY9N/ref=zg_bs_baby-products_3/000-0000000-0000000?pd_rd_i=B09L61QL3F&psc=1',\n",
       " 'https://www.amazon.com/WaterWipes-Sensitive-Baby-Wipes-Count/dp/B0779Z53SD/ref=zg_bs_baby-products_4/000-0000000-0000000?pd_rd_i=B09P3X2PQK&psc=1',\n",
       " 'https://www.amazon.com/Unscented-Huggies-Simply-Fragrance-Free-Diaper/dp/B08QRKY3NJ/ref=zg_bs_baby-products_5/000-0000000-0000000?pd_rd_i=B08XRTXJZZ&psc=1',\n",
       " 'https://www.amazon.com/Amazon-Brand-Gentle-Touch-Diapers/dp/B07T4WQRN1/ref=zg_bs_baby-products_6/000-0000000-0000000?pd_rd_i=B07XQ91VC2&psc=1',\n",
       " 'https://www.amazon.com/Baby-Diapers-Huggies-Little-Movers/dp/B08QRYHC38/ref=zg_bs_baby-products_7/000-0000000-0000000?pd_rd_i=B09L61BYYW&psc=1',\n",
       " 'https://www.amazon.com/Lansinoh-Breastmilk-Breastfeeding-Directly-Essentials/dp/B006XISCNA/ref=zg_bs_baby-products_8/000-0000000-0000000?pd_rd_i=B09SX991Q8&psc=1',\n",
       " 'https://www.amazon.com/Liquid-I-V-Multiplier-Electrolyte-Supplement/dp/B07HCLQZF7/ref=zg_bs_baby-products_9/000-0000000-0000000?pd_rd_i=B08YKG3XTV&psc=1',\n",
       " 'https://www.amazon.com/Dr-Browns-Original-Nipple-Preemie/dp/B015XBYDE4/ref=zg_bs_baby-products_10/000-0000000-0000000?pd_rd_i=B09SHLXTJX&psc=1',\n",
       " 'https://www.amazon.com/Newborn-Diapers-Huggies-Little-Snugglers/dp/B08TGTV51B/ref=zg_bs_baby-products_11/000-0000000-0000000?pd_rd_i=B09L61ZKZG&psc=1',\n",
       " 'https://www.amazon.com/Nighttime-Baby-Diapers-Huggies-Overnites/dp/B08QRTWRZ6/ref=zg_bs_baby-products_12/000-0000000-0000000?pd_rd_i=B09L619CLT&psc=1',\n",
       " 'https://www.amazon.com/Pampers-Pop-Top-Sensitive-Water-Wipes/dp/B077D3JKVR/ref=zg_bs_baby-products_13/000-0000000-0000000?pd_rd_i=B09C1J7N4V&psc=1',\n",
       " 'https://www.amazon.com/Dr-Browns-Bottle-Brush-Blue/dp/B000N0SNHY/ref=zg_bs_baby-products_14/000-0000000-0000000?pd_rd_i=B09RTWRR6J&psc=1',\n",
       " 'https://www.amazon.com/Amazon-Family-Baby-Registry-Welcome/dp/B00N1NBOV2/ref=zg_bs_baby-products_15/000-0000000-0000000?pd_rd_i=B00N1NBOV2&psc=1',\n",
       " 'https://www.amazon.com/Pampers-Diapers-Size-116-Count/dp/B08PX3YF6P/ref=zg_bs_baby-products_16/000-0000000-0000000?pd_rd_i=B09QJJ8SH1&psc=1',\n",
       " 'https://www.amazon.com/Pampers-Baby-Dry-Disposable-Diapers-Count/dp/B00TJ6WLV2/ref=zg_bs_baby-products_17/000-0000000-0000000?pd_rd_i=B09595X1ZB&psc=1',\n",
       " 'https://www.amazon.com/Diapers-Newborn-Size-Count-Hypoallergenic/dp/B082QBHW74/ref=zg_bs_baby-products_18/000-0000000-0000000?pd_rd_i=B093W6L4MQ&psc=1',\n",
       " 'https://www.amazon.com/Luvs-Leakguards-Disposable-Diapers-Newborn/dp/B01EKZO93O/ref=zg_bs_baby-products_19/000-0000000-0000000?pd_rd_i=B093W75P86&psc=1',\n",
       " 'https://www.amazon.com/Haakaa-Breast-Manual-Silicone-Breastfeeding/dp/B07CWK4S5W/ref=zg_bs_baby-products_20/000-0000000-0000000?pd_rd_i=B07CWK4S5W&psc=1',\n",
       " 'https://www.amazon.com/Aquaphor-Baby-Healing-Ointment-Advance/dp/B005UEB96K/ref=zg_bs_baby-products_21/000-0000000-0000000?pd_rd_i=B005UEB96K&psc=1',\n",
       " 'https://www.amazon.com/Desitin-Relief-Diaper-Remedy-Fragrance-Free/dp/B003DN1WJY/ref=zg_bs_baby-products_22/000-0000000-0000000?pd_rd_i=B08G38FG28&psc=1',\n",
       " 'https://www.amazon.com/Hatch-Baby-Night-Light-Machine/dp/B06XMRCC94/ref=zg_bs_baby-products_23/000-0000000-0000000?pd_rd_i=B06XMRCC94&psc=1',\n",
       " 'https://www.amazon.com/Pampers-Cruisers-Diapers-Sensitive-Pop-Top/dp/B0911T5NDQ/ref=zg_bs_baby-products_24/000-0000000-0000000?pd_rd_i=B09RP151TB&psc=1',\n",
       " 'https://www.amazon.com/Johnsons-Baby-ZY-ghm-202009017-106-Wash-Shampoo/dp/B086YF2YM6/ref=zg_bs_baby-products_25/000-0000000-0000000?pd_rd_i=B09RBWGNJQ&psc=1',\n",
       " 'https://www.amazon.com/Huggies-Snug-Diapers-Month-Supply/dp/B0839BLNFV/ref=zg_bs_baby-products_26/000-0000000-0000000?pd_rd_i=B09L61JNH7&psc=1',\n",
       " 'https://www.amazon.com/Pampers-Training-Disposable-Diapers-Supply/dp/B078WB74R9/ref=zg_bs_baby-products_27/000-0000000-0000000?pd_rd_i=B09FYL5RFN&psc=1',\n",
       " 'https://www.amazon.com/Huggies-Delivery-Hypoallergenic-Unscented-Flip-Top/dp/B082WZVCPN/ref=zg_bs_baby-products_28/000-0000000-0000000?pd_rd_i=B09L5ZW2G6&psc=1',\n",
       " 'https://www.amazon.com/Safety-1st-featuring-Mombella-Mushroom/dp/B014655J4G/ref=zg_bs_baby-products_29/000-0000000-0000000?pd_rd_i=B01N39SJEY&psc=1',\n",
       " 'https://www.amazon.com/Munchkin-24188-Weighted-Flexi-Straw-Cup/dp/B00HNW302I/ref=zg_bs_baby-products_30/000-0000000-0000000?pd_rd_i=B07L5FC123&psc=1',\n",
       " 'https://www.amazon.com/ChoiceRefill-Compatible-Diaper-Genie-8-Pack/dp/B073CLKNK3/ref=zg_bs_baby-products_1/000-0000000-0000000?pd_rd_i=B09S9TFF3S&psc=1',\n",
       " 'https://www.amazon.com/Lansinoh-Lanolin-Breastfeeding-Soothing-Essentials/dp/B005MI648C/ref=zg_bs_baby-products_2/000-0000000-0000000?pd_rd_i=B08QB8W47G&psc=1',\n",
       " 'https://www.amazon.com/Itzy-Ritzy-Sweetie-Soother-Pacifier/dp/B08NVNZYPF/ref=zg_bs_baby-products_3/000-0000000-0000000?pd_rd_i=B09FTK5V21&psc=1',\n",
       " 'https://www.amazon.com/Boudreauxs-Butt-Paste-Ointment-Preservative/dp/B004XFUSRI/ref=zg_bs_baby-products_4/000-0000000-0000000?pd_rd_i=B09FG7SZHX&psc=1',\n",
       " 'https://www.amazon.com/PharMeDoc-Pregnancy-Cooling-U-Shape-Maternity/dp/B07WHSQ1SF/ref=zg_bs_baby-products_5/000-0000000-0000000?pd_rd_i=B0873VN4BG&psc=1',\n",
       " 'https://www.amazon.com/Similac-Pro-Advance-Non-GMO-Formula-One-Month/dp/B075ZXXM84/ref=zg_bs_baby-products_6/000-0000000-0000000?pd_rd_i=B075ZXXM84&psc=1',\n",
       " 'https://www.amazon.com/Infantino-Flip-4-Convertible-Carrier/dp/B07XMN3SK6/ref=zg_bs_baby-products_7/000-0000000-0000000?pd_rd_i=B09L1SVJWC&psc=1',\n",
       " 'https://www.amazon.com/Contigo-AUTOSPOUT-Water-Bottle-Licorice/dp/B089KR41DK/ref=zg_bs_baby-products_8/000-0000000-0000000?pd_rd_i=B09RJ57FW6&psc=1',\n",
       " 'https://www.amazon.com/Lansinoh-Nursing-Packs-Disposable-Breast/dp/B002TLU5JO/ref=zg_bs_baby-products_9/000-0000000-0000000?pd_rd_i=B09JB8ZP3W&psc=1',\n",
       " 'https://www.amazon.com/Graco-Backless-TurboBooster-Seat-Galaxy/dp/B007UYBOJU/ref=zg_bs_baby-products_10/000-0000000-0000000?pd_rd_i=B007UYBOJU&psc=1',\n",
       " 'https://www.amazon.com/Dr-Browns-Options-Bottles-Designs/dp/B07TXM6K2T/ref=zg_bs_baby-products_11/000-0000000-0000000?pd_rd_i=B09NFGQV31&psc=1',\n",
       " 'https://www.amazon.com/iHealth-Thermometer-Vibration-Notification-Thermopile/dp/B075QQ8VZW/ref=zg_bs_baby-products_12/000-0000000-0000000?pd_rd_i=B075QQ8VZW&psc=1',\n",
       " 'https://www.amazon.com/Goodnites-Nighttime-Bedwetting-Underwear-HSA-Eligible/dp/B01IQDZHSC/ref=zg_bs_baby-products_13/000-0000000-0000000?pd_rd_i=B09L61TS6V&psc=1',\n",
       " 'https://www.amazon.com/Medela-Breastfeeding-Self-Standing-Space-Saving-Hygienically/dp/B0723GXKZC/ref=zg_bs_baby-products_14/000-0000000-0000000?pd_rd_i=B071ZZ2FS9&psc=1',\n",
       " 'https://www.amazon.com/Infantino-Bites-Textured-Carrot-Teether/dp/B071HN7DYP/ref=zg_bs_baby-products_15/000-0000000-0000000?pd_rd_i=B08KGGWVYV&psc=1',\n",
       " 'https://www.amazon.com/Nasal-Aspirator-NoseFrida-Snotsucker-Fridababy/dp/B00171WXII/ref=zg_bs_baby-products_16/000-0000000-0000000?pd_rd_i=B09MGR54VP&psc=1',\n",
       " 'https://www.amazon.com/Amazon-Elements-Wipes-Unscented-Flip-Top/dp/B07H53W5WP/ref=zg_bs_baby-products_17/000-0000000-0000000?pd_rd_i=B0846DJBPW&psc=1',\n",
       " 'https://www.amazon.com/GE-50271-Outlet-Plastic-Safety/dp/B000BQ8DWA/ref=zg_bs_baby-products_18/000-0000000-0000000?pd_rd_i=B09P2B2K1N&psc=1',\n",
       " 'https://www.amazon.com/Momcozy-Adjustable-Breast-Pumps-Suitable-Breastfeeding-Pumps/dp/B086V7V7ZD/ref=zg_bs_baby-products_19/000-0000000-0000000?pd_rd_i=B095LM5JSB&psc=1',\n",
       " 'https://www.amazon.com/Amazon-Elements-Wipes-Sensitive-Flip-Top/dp/B07H4V7M4C/ref=zg_bs_baby-products_20/000-0000000-0000000?pd_rd_i=B0845CS7F6&psc=1']"
      ]
     },
     "execution_count": 75,
     "metadata": {},
     "output_type": "execute_result"
    }
   ],
   "source": [
    "url_list = scrape_url(html, url_list)\n",
    "url_list"
   ]
  },
  {
   "cell_type": "code",
   "execution_count": null,
   "id": "82c16563",
   "metadata": {},
   "outputs": [],
   "source": [
    "#initialize url list\n",
    "url_list = []\n",
    "\n",
    "a = scrape_url(html, url_list)\n",
    "\n",
    "# Append to url list\n",
    "#url_list = ['https://www.amazon.com'+ x for x in listing_url]"
   ]
  },
  {
   "cell_type": "code",
   "execution_count": null,
   "id": "59dc355c",
   "metadata": {
    "scrolled": true
   },
   "outputs": [],
   "source": [
    "# url of next page\n",
    "nextpage_url = sel.css('li.a-last ::attr(href)').extract()"
   ]
  },
  {
   "cell_type": "code",
   "execution_count": null,
   "id": "7332c253",
   "metadata": {},
   "outputs": [],
   "source": [
    "response.follow(nextpage_url)"
   ]
  },
  {
   "cell_type": "code",
   "execution_count": null,
   "id": "c4675599",
   "metadata": {},
   "outputs": [],
   "source": [
    "scrapy crawl quotes"
   ]
  },
  {
   "cell_type": "code",
   "execution_count": null,
   "id": "25a29a9c",
   "metadata": {},
   "outputs": [],
   "source": [
    "#Setting up Spider\n",
    "class AmazonSpider(scrapy.Spider):\n",
    "    name = 'amazonspider'\n",
    "    def __init__(self, url_start)\n",
    "        self.url_start = url_start\n",
    "        \n",
    "    def start_requests(self):\n",
    "        url = [url_start]\n",
    "        for url\n",
    "        \n"
   ]
  },
  {
   "cell_type": "code",
   "execution_count": null,
   "id": "5cfaf091",
   "metadata": {},
   "outputs": [],
   "source": []
  }
 ],
 "metadata": {
  "kernelspec": {
   "display_name": "Python 3 (ipykernel)",
   "language": "python",
   "name": "python3"
  },
  "language_info": {
   "codemirror_mode": {
    "name": "ipython",
    "version": 3
   },
   "file_extension": ".py",
   "mimetype": "text/x-python",
   "name": "python",
   "nbconvert_exporter": "python",
   "pygments_lexer": "ipython3",
   "version": "3.9.7"
  }
 },
 "nbformat": 4,
 "nbformat_minor": 5
}
